{
 "cells": [
  {
   "cell_type": "code",
   "execution_count": 2,
   "id": "96ab8d4a-0de2-4826-9b86-8bd42c7781f9",
   "metadata": {},
   "outputs": [
    {
     "ename": "SyntaxError",
     "evalue": "invalid syntax (3803675248.py, line 15)",
     "output_type": "error",
     "traceback": [
      "\u001b[1;36m  Cell \u001b[1;32mIn[2], line 15\u001b[1;36m\u001b[0m\n\u001b[1;33m    para conteo de contenido, ej: \"cuantos trailers hay\"\u001b[0m\n\u001b[1;37m         ^\u001b[0m\n\u001b[1;31mSyntaxError\u001b[0m\u001b[1;31m:\u001b[0m invalid syntax\n"
     ]
    }
   ],
   "source": [
    "#esto es consumir una api\n",
    "import requests\n",
    "import pandas as pd\n",
    "url = \"https://api.jikan.moe/v4/top/anime\"\n",
    "\n",
    "payload = {}\n",
    "headers = {}\n",
    "\n",
    "response = requests.request(\"GET\", url, headers=headers, data=payload)\n",
    "respuesta = response.json()\n",
    "tabla = pd.read_json(respuesta[\"data\"])\n",
    "print(tabla)\n",
    "\n",
    "'''\n",
    "respuesta = response.json() #almacena la response\n",
    "para conteo de contenido, ej: \"cuantos trailers hay\"\n",
    "conteo_trailers = 0\n",
    "for anime in respuesta[\"data\"]:\n",
    "    if \"trailer\" in anime:\n",
    "        conteo_trailers += 1\n",
    "        print(\"Título del Anime:\", anime[\"title\"])\n",
    "        print(\"Trailer:\", anime[\"trailer\"], \"\\n\")\n",
    "    print(conteo_trailers)\n",
    "'''"
   ]
  },
  {
   "cell_type": "code",
   "execution_count": null,
   "id": "834be1d9-32f2-426a-aa80-2cc29696e9e3",
   "metadata": {},
   "outputs": [],
   "source": []
  },
  {
   "cell_type": "code",
   "execution_count": null,
   "id": "12136907-ff6a-4848-bc03-34b9ea3e1954",
   "metadata": {},
   "outputs": [],
   "source": []
  }
 ],
 "metadata": {
  "kernelspec": {
   "display_name": "Python 3 (ipykernel)",
   "language": "python",
   "name": "python3"
  },
  "language_info": {
   "codemirror_mode": {
    "name": "ipython",
    "version": 3
   },
   "file_extension": ".py",
   "mimetype": "text/x-python",
   "name": "python",
   "nbconvert_exporter": "python",
   "pygments_lexer": "ipython3",
   "version": "3.12.0"
  }
 },
 "nbformat": 4,
 "nbformat_minor": 5
}
